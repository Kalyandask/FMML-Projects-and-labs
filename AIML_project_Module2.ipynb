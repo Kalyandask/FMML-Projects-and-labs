{
  "nbformat": 4,
  "nbformat_minor": 0,
  "metadata": {
    "colab": {
      "provenance": [],
      "authorship_tag": "ABX9TyPbDcch0n27lMCb6PXVvgkD",
      "include_colab_link": true
    },
    "kernelspec": {
      "name": "python3",
      "display_name": "Python 3"
    },
    "language_info": {
      "name": "python"
    }
  },
  "cells": [
    {
      "cell_type": "markdown",
      "metadata": {
        "id": "view-in-github",
        "colab_type": "text"
      },
      "source": [
        "<a href=\"https://colab.research.google.com/github/Kalyandask/FMML-Projects-and-labs/blob/main/AIML_project_Module2.ipynb\" target=\"_parent\"><img src=\"https://colab.research.google.com/assets/colab-badge.svg\" alt=\"Open In Colab\"/></a>"
      ]
    },
    {
      "cell_type": "code",
      "execution_count": null,
      "metadata": {
        "id": "SxckEjAA65_2"
      },
      "outputs": [],
      "source": [
        "from google.colab import files\n",
        "import pandas as pd\n",
        "import numpy as np\n",
        "from Bio import SeqIO\n",
        "from tqdm.autonotebook import tqdm\n",
        "import plotly.express as px\n",
        "import matplotlib.pyplot as plt"
      ]
    },
    {
      "cell_type": "code",
      "source": [
        "# --- Load Data ---\n",
        "data = pd.read_csv(\"INDIA_685.csv\")\n",
        "print(\"Original Metadata Loaded:\")\n",
        "print(data.head())\n",
        "\n",
        "# --- Step 1: TIME SERIES PREPARATION (Crucial Addition) ---\n",
        "# NOTE: The original data may or may not have a 'Collection_Date'.\n",
        "# We create a SYNTHETIC 'Date' column for demonstration, assuming the 685 samples\n",
        "# were collected uniformly over 90 days (March to May 2020).\n",
        "start_date = pd.to_datetime('2020-03-01')\n",
        "end_date = pd.to_datetime('2020-05-30')\n",
        "data['Date'] = pd.to_datetime(np.random.choice(pd.date_range(start_date, end_date), size=len(data)))\n",
        "data = data.sort_values(by='Date').reset_index(drop=True)\n",
        "\n",
        "print(\"\\nMetadata with Synthetic Date:\")\n",
        "print(data[['StrainID', 'Date', 'State']].head())"
      ],
      "metadata": {
        "id": "Nu0CbBz2HmNy"
      },
      "execution_count": null,
      "outputs": []
    },
    {
      "cell_type": "code",
      "source": [
        "mutations = []\n",
        "for i in range(len(data)):\n",
        "    # Safely handle the string format '[mut1, mut2]' -> 'mut1, mut2'\n",
        "    sample_muts_str = data[\"Nuc_muts\"][i][1:][:-1]\n",
        "    if sample_muts_str:\n",
        "        sample_muts = sample_muts_str.split(\",\")\n",
        "        for j in sample_muts:\n",
        "            mut = j.strip()[1:][:-1]\n",
        "            if(len(mut) >= 2 and mut not in mutations):\n",
        "                mutations.append(mut)\n",
        "\n",
        "print(f\"\\nTotal Unique Mutations: {len(mutations)}\")\n",
        "\n",
        "# Create the binary Mutation Profile DataFrame (rows=Strains, cols=Mutations)\n",
        "samplelist = data[\"StrainID\"].tolist()\n",
        "mutation_df = pd.DataFrame(0, index=samplelist, columns=mutations)\n",
        "\n",
        "for i in tqdm(range(len(data)), desc=\"Building Mutation Matrix\"):\n",
        "    strainid = data[\"StrainID\"][i]\n",
        "    sample_muts_str = data[\"Nuc_muts\"][i][1:][:-1]\n",
        "    if sample_muts_str:\n",
        "        sample_muts = sample_muts_str.split(\",\")\n",
        "        for j in sample_muts:\n",
        "            mut = j.strip()[1:][:-1]\n",
        "            if(len(mut) >= 2 and mut in mutation_df.columns):\n",
        "                mutation_df.loc[strainid, mut] = 1\n",
        "\n",
        "print(\"\\nMutation Profile Matrix (Sample):\")\n",
        "print(mutation_df.head())"
      ],
      "metadata": {
        "id": "LLiGmCWnAApI"
      },
      "execution_count": null,
      "outputs": []
    },
    {
      "cell_type": "code",
      "source": [
        "# Select the key mutations to track their frequency\n",
        "KEY_MUTATIONS = [\n",
        "    'C13730T', # I/A3i subclade (Telangana/Delhi/TN)\n",
        "    'C23929T', # I/A3i subclade (Telangana/Delhi/TN)\n",
        "    'G25563T'  # I/GJ-20A subclade (Gujarat)\n",
        "]\n",
        "\n",
        "# Ensure the selected mutations are actually in the dataset\n",
        "mutations_to_plot = [m for m in KEY_MUTATIONS if m in mutation_df.columns]\n",
        "if not mutations_to_plot:\n",
        "    print(\"\\nError: Key mutations not found in the dataset for plotting.\")\n",
        "else:\n",
        "    # Join the mutation profile with the date metadata\n",
        "    df_plot = mutation_df.loc[data['StrainID']][mutations_to_plot]\n",
        "    df_plot['Date'] = data['Date'].values"
      ],
      "metadata": {
        "id": "6OZlk2HxALrZ"
      },
      "execution_count": null,
      "outputs": []
    },
    {
      "cell_type": "code",
      "source": [
        "df_plot['Total_Sequences'] = df_plot.index.to_series().rank(method='first').astype(int)"
      ],
      "metadata": {
        "id": "0YyA7-cVMGWu"
      },
      "execution_count": null,
      "outputs": []
    },
    {
      "cell_type": "code",
      "source": [
        "weekly_data = df_plot.groupby(df_plot['Date'].dt.to_period('W')).agg(\n",
        "        **{mut: ('Total_Sequences', 'count') for mut in mutations_to_plot},\n",
        "        Total_Count=('Total_Sequences', 'count')\n",
        "    ).fillna(0)"
      ],
      "metadata": {
        "id": "QEreDYsfMJ9B"
      },
      "execution_count": null,
      "outputs": []
    },
    {
      "cell_type": "code",
      "source": [
        "for mut in mutations_to_plot:\n",
        "        weekly_data[f'Frequency_{mut}'] = (weekly_data[mut] / weekly_data['Total_Count']) * 100"
      ],
      "metadata": {
        "id": "7RA4OsI4MMtl"
      },
      "execution_count": null,
      "outputs": []
    },
    {
      "cell_type": "code",
      "source": [
        "weekly_data['Week'] = weekly_data.index.to_timestamp()\n",
        "df_final_plot = weekly_data.filter(like='Frequency_')\n",
        "df_final_plot['Week'] = weekly_data['Week']\n",
        "df_final_plot = df_final_plot.reset_index(drop=True)\n",
        "df_final_plot = df_final_plot.melt(id_vars=['Week'], var_name='Mutation', value_name='Frequency (%)')\n",
        "df_final_plot['Mutation'] = df_final_plot['Mutation'].str.replace('Frequency_', '')\n",
        "\n",
        "# --- Plotting ---\n",
        "fig = px.line(\n",
        "    df_final_plot,\n",
        "    x='Week',\n",
        "    y='Frequency (%)',\n",
        "    color='Mutation',\n",
        "    title='Temporal Prevalence of Key SARS-CoV-2 Mutations (Synthetic Data)',\n",
        "    labels={'Week': 'Collection Week', 'Frequency (%)': 'Weekly Prevalence (%)'},\n",
        "    line_shape='spline'\n",
        ")\n",
        "\n",
        "fig.update_layout(\n",
        "    xaxis_title=\"Collection Week\",\n",
        "    yaxis_title=\"Weekly Prevalence (%)\",\n",
        "    legend_title=\"Mutation\",\n",
        "    hovermode=\"x unified\"\n",
        ")\n",
        "\n",
        "fig.show(renderer=\"colab\")"
      ],
      "metadata": {
        "id": "ywPO27-BMOW_"
      },
      "execution_count": null,
      "outputs": []
    },
    {
      "cell_type": "code",
      "source": [],
      "metadata": {
        "id": "ngYPEepTMQyW"
      },
      "execution_count": null,
      "outputs": []
    }
  ]
}