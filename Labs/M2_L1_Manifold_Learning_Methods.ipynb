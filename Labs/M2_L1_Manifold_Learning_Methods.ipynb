{
  "nbformat": 4,
  "nbformat_minor": 0,
  "metadata": {
    "colab": {
      "provenance": [],
      "authorship_tag": "ABX9TyNuSV5K1IeSchWEu2K+dnb2",
      "include_colab_link": true
    },
    "kernelspec": {
      "name": "python3",
      "display_name": "Python 3"
    },
    "language_info": {
      "name": "python"
    }
  },
  "cells": [
    {
      "cell_type": "markdown",
      "metadata": {
        "id": "view-in-github",
        "colab_type": "text"
      },
      "source": [
        "<a href=\"https://colab.research.google.com/github/Kalyandask/FMML-Projects-and-labs/blob/main/M2_L1_Manifold_Learning_Methods.ipynb\" target=\"_parent\"><img src=\"https://colab.research.google.com/assets/colab-badge.svg\" alt=\"Open In Colab\"/></a>"
      ]
    },
    {
      "cell_type": "code",
      "execution_count": null,
      "metadata": {
        "id": "nOqAsFsR1Scd"
      },
      "outputs": [],
      "source": [
        "import pandas as pd\n",
        "import matplotlib.pyplot as plt\n",
        "import numpy as np"
      ]
    },
    {
      "cell_type": "code",
      "source": [
        "minutes = np.arange(0, 31, 1)\n",
        "values = [1000, 997, 992, 982, 978, 975, 980, 985, 990, 995]\n",
        "series = np.interp(minutes, np.linspace(0, 30, len(values)), values)\n",
        "df = pd.DataFrame({\"Minute\": minutes, \"IndexValue\": series})"
      ],
      "metadata": {
        "id": "ds5w3QG4-QBg"
      },
      "execution_count": null,
      "outputs": []
    },
    {
      "cell_type": "code",
      "source": [
        "plt.figure(figsize=(10,5))\n",
        "plt.plot(df[\"Minute\"], df[\"IndexValue\"], marker=\"o\")\n",
        "plt.title(\"Simulated Freight Index Reaction to Fake News\")\n",
        "plt.xlabel(\"Minutes after fake post\")\n",
        "plt.ylabel(\"Index Value\")\n",
        "plt.grid(True)\n",
        "plt.show()\n",
        "\n",
        "df.head(10)"
      ],
      "metadata": {
        "id": "o9BIWkN-BgW7"
      },
      "execution_count": null,
      "outputs": []
    },
    {
      "cell_type": "code",
      "source": [
        "from datetime import datetime"
      ],
      "metadata": {
        "id": "tNX7vReRBkGm"
      },
      "execution_count": null,
      "outputs": []
    },
    {
      "cell_type": "code",
      "source": [
        "fig, ax = plt.subplots(figsize=(8,3))\n",
        "user = \"LocalFlashNews\"\n",
        "handle = \"@localflashnews\"\n",
        "text = \"🚨 BREAKING: Massive explosion reported at Bayport Container Terminal. \\\n",
        "Port operations halted. Local authorities responding. More updates soon.\"\n",
        "time_posted = datetime.now().strftime(\"%H:%M · %d %b %Y\")\n",
        "\n",
        "ax.axis(\"off\")\n",
        "ax.text(0.05, 0.8, f\"{user}  {handle}\", fontsize=12, fontweight=\"bold\")\n",
        "ax.text(0.05, 0.6, text, wrap=True, fontsize=11)\n",
        "ax.text(0.05, 0.2, time_posted, fontsize=9, color=\"gray\")\n",
        "ax.text(0.7, 0.05, \"❤️ 1.2K   🔁 3.4K\", fontsize=10)\n",
        "\n",
        "plt.show()"
      ],
      "metadata": {
        "id": "Lu8nR4pcBtHp"
      },
      "execution_count": null,
      "outputs": []
    },
    {
      "cell_type": "code",
      "source": [
        "!pip install diffusers transformers accelerate safetensors\n",
        "\n",
        "from diffusers import StableDiffusionPipeline\n",
        "import torch\n",
        "\n",
        "pipe = StableDiffusionPipeline.from_pretrained(\n",
        "    \"runwayml/stable-diffusion-v1-5\",\n",
        "    torch_dtype=torch.float16\n",
        ")\n",
        "pipe = pipe.to(\"cuda\")\n",
        "\n",
        "prompt = \"Aerial view of a commercial shipping port at dawn, large orange explosion with smoke plume, cranes in foreground, realistic, high detail, 16:9\"\n",
        "image = pipe(prompt, num_inference_steps=25).images[0]\n",
        "image.save(\"fake_port_explosion.png\")\n",
        "image.show()"
      ],
      "metadata": {
        "id": "eHBsydTsB0Td"
      },
      "execution_count": null,
      "outputs": []
    },
    {
      "cell_type": "code",
      "source": [
        "quiz = {\n",
        "    \"Q1\": {\n",
        "        \"question\": \"You see one photo of an explosion at a port. What’s the best first step?\",\n",
        "        \"options\": [\"A: Share immediately\", \"B: Wait for confirmation from official source\"],\n",
        "        \"answer\": \"B\"\n",
        "    },\n",
        "    \"Q2\": {\n",
        "        \"question\": \"Which is a red flag of AI-generated images?\",\n",
        "        \"options\": [\"A: Clean edges and sharp lines\", \"B: Inconsistent shadows or duplicated textures\"],\n",
        "        \"answer\": \"B\"\n",
        "    }\n",
        "}\n",
        "\n",
        "for qid, qdata in quiz.items():\n",
        "    print(\"\\n\", qdata[\"question\"])\n",
        "    for opt in qdata[\"options\"]:\n",
        "        print(\" \", opt)\n",
        "    print(\"Correct Answer:\", qdata[\"answer\"])"
      ],
      "metadata": {
        "id": "NRmb-m3fB2Ms"
      },
      "execution_count": null,
      "outputs": []
    },
    {
      "cell_type": "code",
      "source": [],
      "metadata": {
        "id": "N7x-DOjREBTY"
      },
      "execution_count": null,
      "outputs": []
    }
  ]
}
